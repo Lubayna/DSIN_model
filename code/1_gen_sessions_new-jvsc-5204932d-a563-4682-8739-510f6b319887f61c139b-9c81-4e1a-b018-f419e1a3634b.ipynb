{
 "cells": [
  {
   "cell_type": "code",
   "execution_count": 2,
   "metadata": {},
   "outputs": [],
   "source": [
    "%history -g -f filename "
   ]
  },
  {
   "cell_type": "code",
   "execution_count": null,
   "id": "acc29330",
   "metadata": {},
   "outputs": [],
   "source": []
  }
 ],
 "metadata": {
  "kernelspec": {
   "display_name": "Python 3.9 (tensorflow)",
   "language": "python",
   "name": "tensorflow"
  },
  "language_info": {
   "codemirror_mode": {
    "name": "ipython",
    "version": 3
   },
   "file_extension": ".py",
   "mimetype": "text/x-python",
   "name": "python",
   "nbconvert_exporter": "python",
   "pygments_lexer": "ipython3",
   "version": "3.9.15"
  },
  "vscode": {
   "interpreter": {
    "hash": "b586a1441c270e492bd428aa0c7dfb188c2daf8fb6fbe68cf682c530dacb028c"
   }
  }
 },
 "nbformat": 4,
 "nbformat_minor": 5
}

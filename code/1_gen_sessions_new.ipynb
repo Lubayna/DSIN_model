{
 "cells": [
  {
   "cell_type": "code",
   "execution_count": 4,
   "metadata": {},
   "outputs": [],
   "source": [
    "import numpy as np\n",
    "import pandas as pd\n",
    "from joblib import Parallel, delayed\n",
    "from tqdm import tqdm\n",
    "from sklearn.ensemble import IsolationForest\n",
    "from pandas.testing import assert_frame_equal\n",
    "\n",
    "FRAC = 0.25\n",
    "log = pd.read_pickle('/Users/yuxuanyang/Downloads/DSIN-master/sampled_data/behavior_log_pv_user_filter_enc_0.25.pkl')\n",
    "def gen_intervals(user, user_log, groupby_sdt):\n",
    "    sorted_log = user_log.sort_values(by = ['time_stamp'])\n",
    "    if len(sorted_log) > 1:\n",
    "        intervals = {}\n",
    "        time1 = sorted_log.time_stamp.to_numpy()[:-1]\n",
    "        time2= sorted_log.time_stamp.to_numpy()[1:]\n",
    "        name = sorted_log[groupby_sdt].to_numpy()[:-1]\n",
    "        diffs = time2 - time1 \n",
    "        return pd.DataFrame({groupby_sdt: name, 'interval': diffs})\n",
    "\n",
    "def applyParallel(dfGrouped, func, groupby_sdt):\n",
    "    res = Parallel(n_jobs= -1)(delayed(func)(name, group, groupby_sdt) for name, group in tqdm(dfGrouped))\n",
    "#log.iloc[:100].groupby('user').apply(gen_intervals)\n",
    "    return pd.concat(res)\n",
    "#删除异常值 用异常分数的0.5作为阀值\n",
    "def iforest_remove_outliner(name, intervals_groupby, groupby_sdt):\n",
    "    sll = intervals_groupby.interval.tolist()\n",
    "\n",
    "    X = np.array(sll).reshape(len(sll),1)\n",
    "    clf = IsolationForest(random_state=0).fit(X)\n",
    "    predict_result=clf.predict(X)\n",
    "    tl=[]\n",
    "    for i in range(len(sll)):\n",
    "        if predict_result[i] == 1:\n",
    "            tl.append(sll[i])\n",
    "    if len(tl) > 0:\n",
    "        thresholds = pd.DataFrame({groupby_sdt : [name],'{}_threshold'.format(groupby_sdt):[max(tl)]})\n",
    "        return thresholds\n",
    "\n",
    "if __name__ == \"__main__\":\n",
    "    cate_intervals = applyParallel(log.groupby('user'), gen_intervals, 'cate')\n",
    "    cate_thresholds = applyParallel(cate_intervals.groupby('cate'), iforest_remove_outliner, 'cate')\n",
    "    pd.to_pickle(cate_thresholds.set_index('cate'), '/Users/yuxuanyang/Downloads/DSIN-master/sampled_data/cate_intervals')\n",
    "    brand_intervals = applyParallel(log.groupby('user'), gen_intervals, 'brand')\n",
    "    brand_thresholds = applyParallel(brand_intervals.groupby('brand'), iforest_remove_outliner, 'brand')\n",
    "    pd.to_pickle(brand_thresholds.set_index('brand'), '/Users/yuxuanyang/Downloads/DSIN-master/sampled_data/brand_intervals')"
   ]
  },
  {
   "cell_type": "code",
   "execution_count": 2,
   "metadata": {},
   "outputs": [],
   "source": [
    "import numpy as np"
   ]
  },
  {
   "cell_type": "code",
   "execution_count": 25,
   "metadata": {},
   "outputs": [
    {
     "data": {
      "text/plain": [
       "array([3, 9, 6, 9, 1])"
      ]
     },
     "execution_count": 25,
     "metadata": {},
     "output_type": "execute_result"
    }
   ],
   "source": [
    "\n",
    "click_offsets = np.array([8,3,3,9,5,6,9,6,9,1, 1])\n",
    "session_idx_arr = np.array([1,8,5,6,9,4,3,2,1])\n",
    "iters = np.array([0,1,2,3,4])\n",
    "click_offsets[session_idx_arr[iters]]"
   ]
  },
  {
   "cell_type": "code",
   "execution_count": 26,
   "metadata": {},
   "outputs": [
    {
     "data": {
      "text/plain": [
       "array([ 0, -8,  3, -3,  0])"
      ]
     },
     "execution_count": 26,
     "metadata": {},
     "output_type": "execute_result"
    }
   ],
   "source": [
    "click_offsets[session_idx_arr[iters] + 1] - click_offsets[session_idx_arr[iters]]"
   ]
  },
  {
   "cell_type": "code",
   "execution_count": 4,
   "metadata": {},
   "outputs": [],
   "source": [
    "import pandas as pd\n",
    "FRAC = 0.25\n",
    "SESS_COUNT = 5"
   ]
  },
  {
   "cell_type": "code",
   "execution_count": 5,
   "metadata": {},
   "outputs": [],
   "source": [
    "dnn_feature_columns = pd.read_pickle('/Users/yuxuanyang/Downloads/DSIN-master/model_input/brand_dsin_fd_' +\n",
    "                                         str(FRAC) + '_' + str(SESS_COUNT) + '.pkl')"
   ]
  },
  {
   "cell_type": "code",
   "execution_count": 13,
   "metadata": {},
   "outputs": [
    {
     "name": "stdout",
     "output_type": "stream",
     "text": [
      "<class 'deepctr.feature_column.SparseFeat'>\n",
      "<class 'deepctr.feature_column.SparseFeat'>\n",
      "<class 'deepctr.feature_column.SparseFeat'>\n",
      "<class 'deepctr.feature_column.SparseFeat'>\n",
      "<class 'deepctr.feature_column.SparseFeat'>\n",
      "<class 'deepctr.feature_column.SparseFeat'>\n",
      "<class 'deepctr.feature_column.SparseFeat'>\n",
      "<class 'deepctr.feature_column.SparseFeat'>\n",
      "<class 'deepctr.feature_column.SparseFeat'>\n",
      "<class 'deepctr.feature_column.SparseFeat'>\n",
      "<class 'deepctr.feature_column.SparseFeat'>\n",
      "<class 'deepctr.feature_column.SparseFeat'>\n",
      "<class 'deepctr.feature_column.SparseFeat'>\n",
      "<class 'deepctr.feature_column.SparseFeat'>\n",
      "<class 'deepctr.feature_column.SparseFeat'>\n",
      "<class 'deepctr.feature_column.VarLenSparseFeat'>\n",
      "<class 'deepctr.feature_column.VarLenSparseFeat'>\n",
      "<class 'deepctr.feature_column.VarLenSparseFeat'>\n",
      "<class 'deepctr.feature_column.VarLenSparseFeat'>\n",
      "<class 'deepctr.feature_column.VarLenSparseFeat'>\n",
      "<class 'deepctr.feature_column.VarLenSparseFeat'>\n",
      "<class 'deepctr.feature_column.VarLenSparseFeat'>\n",
      "<class 'deepctr.feature_column.VarLenSparseFeat'>\n",
      "<class 'deepctr.feature_column.VarLenSparseFeat'>\n",
      "<class 'deepctr.feature_column.VarLenSparseFeat'>\n",
      "<class 'deepctr.feature_column.DenseFeat'>\n"
     ]
    }
   ],
   "source": [
    "for i in dnn_feature_columns:\n",
    "    #print(i)\n",
    "    print(type(i))"
   ]
  },
  {
   "cell_type": "code",
   "execution_count": null,
   "metadata": {},
   "outputs": [],
   "source": []
  },
  {
   "cell_type": "code",
   "execution_count": 14,
   "metadata": {},
   "outputs": [
    {
     "data": {
      "text/plain": [
       "3136"
      ]
     },
     "execution_count": 14,
     "metadata": {},
     "output_type": "execute_result"
    }
   ],
   "source": [
    "56*56"
   ]
  },
  {
   "cell_type": "code",
   "execution_count": 15,
   "metadata": {},
   "outputs": [
    {
     "data": {
      "text/plain": [
       "1568"
      ]
     },
     "execution_count": 15,
     "metadata": {},
     "output_type": "execute_result"
    }
   ],
   "source": [
    "56*28"
   ]
  },
  {
   "cell_type": "code",
   "execution_count": 16,
   "metadata": {},
   "outputs": [
    {
     "data": {
      "text/plain": [
       "9.142857142857142"
      ]
     },
     "execution_count": 16,
     "metadata": {},
     "output_type": "execute_result"
    }
   ],
   "source": [
    "256/28"
   ]
  },
  {
   "cell_type": "code",
   "execution_count": 28,
   "metadata": {},
   "outputs": [
    {
     "data": {
      "text/html": [
       "<div>\n",
       "<style scoped>\n",
       "    .dataframe tbody tr th:only-of-type {\n",
       "        vertical-align: middle;\n",
       "    }\n",
       "\n",
       "    .dataframe tbody tr th {\n",
       "        vertical-align: top;\n",
       "    }\n",
       "\n",
       "    .dataframe thead th {\n",
       "        text-align: right;\n",
       "    }\n",
       "</style>\n",
       "<table border=\"1\" class=\"dataframe\">\n",
       "  <thead>\n",
       "    <tr style=\"text-align: right;\">\n",
       "      <th></th>\n",
       "      <th>session_key</th>\n",
       "      <th>item_key</th>\n",
       "      <th>time_key</th>\n",
       "    </tr>\n",
       "  </thead>\n",
       "  <tbody>\n",
       "    <tr>\n",
       "      <th>0</th>\n",
       "      <td>1</td>\n",
       "      <td>4</td>\n",
       "      <td>1</td>\n",
       "    </tr>\n",
       "    <tr>\n",
       "      <th>1</th>\n",
       "      <td>2</td>\n",
       "      <td>6</td>\n",
       "      <td>2</td>\n",
       "    </tr>\n",
       "    <tr>\n",
       "      <th>2</th>\n",
       "      <td>2</td>\n",
       "      <td>1</td>\n",
       "      <td>4</td>\n",
       "    </tr>\n",
       "    <tr>\n",
       "      <th>3</th>\n",
       "      <td>3</td>\n",
       "      <td>2</td>\n",
       "      <td>5</td>\n",
       "    </tr>\n",
       "    <tr>\n",
       "      <th>4</th>\n",
       "      <td>3</td>\n",
       "      <td>6</td>\n",
       "      <td>6</td>\n",
       "    </tr>\n",
       "  </tbody>\n",
       "</table>\n",
       "</div>"
      ],
      "text/plain": [
       "   session_key  item_key  time_key\n",
       "0            1         4         1\n",
       "1            2         6         2\n",
       "2            2         1         4\n",
       "3            3         2         5\n",
       "4            3         6         6"
      ]
     },
     "execution_count": 28,
     "metadata": {},
     "output_type": "execute_result"
    }
   ],
   "source": [
    "import pandas  as pd\n",
    "import numpy as np\n",
    "\n",
    "df =  pd.DataFrame(pd.DataFrame({'session_key': [1,2,2,3,3], 'item_key': [4,6,1,2,6], 'time_key': [1,2,4,5,6]}))\n",
    "df"
   ]
  },
  {
   "cell_type": "code",
   "execution_count": 23,
   "metadata": {},
   "outputs": [],
   "source": [
    "offsets = np.zeros(df['session_key'].nunique() + 1, dtype=np.int32)\n",
    "offsets[1:] = df.groupby('session_key').size().cumsum()"
   ]
  },
  {
   "cell_type": "code",
   "execution_count": 36,
   "metadata": {},
   "outputs": [],
   "source": [
    "item_ids = df['item_key'].unique()  # type is numpy.ndarray\n",
    "item2idx = pd.Series(data=np.arange(len(item_ids)),\n",
    "                        index=item_ids)\n",
    "# Build itemmap is a DataFrame that have 2 columns (self.item_key, 'item_idx)\n",
    "itemmap = pd.DataFrame({'item_key': item_ids,\n",
    "                        'item_idx': item2idx[item_ids].values})"
   ]
  },
  {
   "cell_type": "code",
   "execution_count": 56,
   "metadata": {},
   "outputs": [
    {
     "data": {
      "text/plain": [
       "array([0, 1, 2])"
      ]
     },
     "execution_count": 56,
     "metadata": {},
     "output_type": "execute_result"
    }
   ],
   "source": [
    "session_idx_arr = np.arange(df['session_key'].nunique())\n",
    "session_idx_arr"
   ]
  },
  {
   "cell_type": "code",
   "execution_count": 55,
   "metadata": {},
   "outputs": [
    {
     "data": {
      "text/plain": [
       "array([0, 1, 3, 5], dtype=int32)"
      ]
     },
     "execution_count": 55,
     "metadata": {},
     "output_type": "execute_result"
    }
   ],
   "source": [
    "click_offsets = offsets\n",
    "click_offsets"
   ]
  },
  {
   "cell_type": "code",
   "execution_count": 63,
   "metadata": {},
   "outputs": [
    {
     "data": {
      "text/plain": [
       "array([0])"
      ]
     },
     "execution_count": 63,
     "metadata": {},
     "output_type": "execute_result"
    }
   ],
   "source": [
    "np.arange(2)[(click_offsets[session_idx_arr[np.arange(2)]+1]- click_offsets[session_idx_arr[np.arange(2)]]) <=1]"
   ]
  },
  {
   "cell_type": "code",
   "execution_count": 58,
   "metadata": {},
   "outputs": [
    {
     "data": {
      "text/plain": [
       "array([1, 3], dtype=int32)"
      ]
     },
     "execution_count": 58,
     "metadata": {},
     "output_type": "execute_result"
    }
   ],
   "source": [
    "click_offsets[session_idx_arr[np.arange(2)]+1]"
   ]
  },
  {
   "cell_type": "code",
   "execution_count": 60,
   "metadata": {},
   "outputs": [
    {
     "data": {
      "text/plain": [
       "array([1, 2])"
      ]
     },
     "execution_count": 60,
     "metadata": {},
     "output_type": "execute_result"
    }
   ],
   "source": [
    "session_idx_arr[np.arange(2)]+1"
   ]
  },
  {
   "cell_type": "code",
   "execution_count": 3,
   "metadata": {},
   "outputs": [],
   "source": [
    "import numpy as np\n",
    "import pandas as pd\n",
    "from google.cloud import bigquery\n",
    "from google.oauth2 import service_account\n",
    "import pyarrow\n",
    "from pandas import Timestamp\n",
    "import itertools\n",
    "from datetime import datetime"
   ]
  },
  {
   "cell_type": "code",
   "execution_count": 4,
   "metadata": {},
   "outputs": [],
   "source": [
    "# my credential file\n",
    "#key_path = \"/Users/yuxuanyang/Downloads/encoded-adviser-131008-f2e09e85c3b3.json\"\n",
    "key_path = \"/Users/yuxuanyang/Downloads/encoded-adviser-131008-7129911936a3.json\"\n",
    "\n",
    "credentials = service_account.Credentials.from_service_account_file(\n",
    "    key_path, scopes=[\"https://www.googleapis.com/auth/cloud-platform\"],\n",
    ")\n",
    "\n",
    "client = bigquery.Client(credentials=credentials, project=credentials.project_id)"
   ]
  },
  {
   "cell_type": "code",
   "execution_count": 5,
   "metadata": {},
   "outputs": [],
   "source": [
    "query= \"\"\"\n",
    "    select *\n",
    "    from `encoded-adviser-131008.yang_20230130.20000users`\n",
    "\"\"\"\n",
    "query_job = client.query(query)  # Make an API request.\n",
    "users = query_job.to_dataframe()\n",
    "pd.to_pickle(users, '/Users/yuxuanyang/Downloads/DSIN-master/fpro_data/sample_users.pkl')"
   ]
  },
  {
   "cell_type": "code",
   "execution_count": 6,
   "metadata": {},
   "outputs": [],
   "source": [
    "query= \"\"\"\n",
    "    select *\n",
    "    from `encoded-adviser-131008.yang_20230130.apps`\n",
    "\"\"\"\n",
    "query_job = client.query(query)  # Make an API request.\n",
    "apps = query_job.to_dataframe()\n",
    "pd.to_pickle(apps, '/Users/yuxuanyang/Downloads/DSIN-master/fpro_data/apps.pkl')"
   ]
  },
  {
   "cell_type": "code",
   "execution_count": 6,
   "metadata": {},
   "outputs": [],
   "source": [
    "query= \"\"\"\n",
    "    select *\n",
    "    from `encoded-adviser-131008.yang_20230130.logs_8days_20000users` \n",
    "\"\"\"\n",
    "query_job = client.query(query)  # Make an API request.\n",
    "user_logs = query_job.to_dataframe()\n",
    "pd.to_pickle(user_logs, '/Users/yuxuanyang/Downloads/DSIN-master/fpro_data/sample_user_logs.pkl')"
   ]
  },
  {
   "cell_type": "code",
   "execution_count": 1,
   "metadata": {},
   "outputs": [
    {
     "ename": "NameError",
     "evalue": "name 'user_logs' is not defined",
     "output_type": "error",
     "traceback": [
      "\u001b[0;31m---------------------------------------------------------------------------\u001b[0m",
      "\u001b[0;31mNameError\u001b[0m                                 Traceback (most recent call last)",
      "Cell \u001b[0;32mIn[1], line 1\u001b[0m\n\u001b[0;32m----> 1\u001b[0m user_logs\n",
      "\u001b[0;31mNameError\u001b[0m: name 'user_logs' is not defined"
     ]
    }
   ],
   "source": [
    "user_logs"
   ]
  },
  {
   "cell_type": "code",
   "execution_count": null,
   "metadata": {},
   "outputs": [],
   "source": []
  }
 ],
 "metadata": {
  "kernelspec": {
   "display_name": "Python 3.9 (tensorflow)",
   "language": "python",
   "name": "tensorflow"
  },
  "language_info": {
   "codemirror_mode": {
    "name": "ipython",
    "version": 3
   },
   "file_extension": ".py",
   "mimetype": "text/x-python",
   "name": "python",
   "nbconvert_exporter": "python",
   "pygments_lexer": "ipython3",
   "version": "3.9.15 | packaged by conda-forge | (main, Nov 22 2022, 08:48:25) \n[Clang 14.0.6 ]"
  },
  "orig_nbformat": 4,
  "vscode": {
   "interpreter": {
    "hash": "b586a1441c270e492bd428aa0c7dfb188c2daf8fb6fbe68cf682c530dacb028c"
   }
  }
 },
 "nbformat": 4,
 "nbformat_minor": 2
}

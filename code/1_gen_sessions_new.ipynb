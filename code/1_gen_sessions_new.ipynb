{
 "cells": [
  {
   "cell_type": "code",
   "execution_count": 4,
   "metadata": {},
   "outputs": [],
   "source": [
    "import numpy as np\n",
    "import pandas as pd\n",
    "from joblib import Parallel, delayed\n",
    "from tqdm import tqdm\n",
    "from sklearn.ensemble import IsolationForest\n",
    "from pandas.testing import assert_frame_equal\n",
    "\n",
    "FRAC = 0.25\n",
    "log = pd.read_pickle('/Users/yuxuanyang/Downloads/DSIN-master/sampled_data/behavior_log_pv_user_filter_enc_0.25.pkl')\n",
    "def gen_intervals(user, user_log, groupby_sdt):\n",
    "    sorted_log = user_log.sort_values(by = ['time_stamp'])\n",
    "    if len(sorted_log) > 1:\n",
    "        intervals = {}\n",
    "        time1 = sorted_log.time_stamp.to_numpy()[:-1]\n",
    "        time2= sorted_log.time_stamp.to_numpy()[1:]\n",
    "        name = sorted_log[groupby_sdt].to_numpy()[:-1]\n",
    "        diffs = time2 - time1 \n",
    "        return pd.DataFrame({groupby_sdt: name, 'interval': diffs})\n",
    "\n",
    "def applyParallel(dfGrouped, func, groupby_sdt):\n",
    "    res = Parallel(n_jobs= -1)(delayed(func)(name, group, groupby_sdt) for name, group in tqdm(dfGrouped))\n",
    "#log.iloc[:100].groupby('user').apply(gen_intervals)\n",
    "    return pd.concat(res)\n",
    "#删除异常值 用异常分数的0.5作为阀值\n",
    "def iforest_remove_outliner(name, intervals_groupby, groupby_sdt):\n",
    "    sll = intervals_groupby.interval.tolist()\n",
    "\n",
    "    X = np.array(sll).reshape(len(sll),1)\n",
    "    clf = IsolationForest(random_state=0).fit(X)\n",
    "    predict_result=clf.predict(X)\n",
    "    tl=[]\n",
    "    for i in range(len(sll)):\n",
    "        if predict_result[i] == 1:\n",
    "            tl.append(sll[i])\n",
    "    if len(tl) > 0:\n",
    "        thresholds = pd.DataFrame({groupby_sdt : [name],'{}_threshold'.format(groupby_sdt):[max(tl)]})\n",
    "        return thresholds\n",
    "\n",
    "if __name__ == \"__main__\":\n",
    "    cate_intervals = applyParallel(log.groupby('user'), gen_intervals, 'cate')\n",
    "    cate_thresholds = applyParallel(cate_intervals.groupby('cate'), iforest_remove_outliner, 'cate')\n",
    "    pd.to_pickle(cate_thresholds.set_index('cate'), '/Users/yuxuanyang/Downloads/DSIN-master/sampled_data/cate_intervals')\n",
    "    brand_intervals = applyParallel(log.groupby('user'), gen_intervals, 'brand')\n",
    "    brand_thresholds = applyParallel(brand_intervals.groupby('brand'), iforest_remove_outliner, 'brand')\n",
    "    pd.to_pickle(brand_thresholds.set_index('brand'), '/Users/yuxuanyang/Downloads/DSIN-master/sampled_data/brand_intervals')"
   ]
  }
 ],
 "metadata": {
  "kernelspec": {
   "display_name": "tensorflow",
   "language": "python",
   "name": "python3"
  },
  "language_info": {
   "codemirror_mode": {
    "name": "ipython",
    "version": 3
   },
   "file_extension": ".py",
   "mimetype": "text/x-python",
   "name": "python",
   "nbconvert_exporter": "python",
   "pygments_lexer": "ipython3",
   "version": "3.9.15"
  },
  "orig_nbformat": 4,
  "vscode": {
   "interpreter": {
    "hash": "b586a1441c270e492bd428aa0c7dfb188c2daf8fb6fbe68cf682c530dacb028c"
   }
  }
 },
 "nbformat": 4,
 "nbformat_minor": 2
}
